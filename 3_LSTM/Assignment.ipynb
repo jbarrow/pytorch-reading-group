{
 "cells": [
  {
   "cell_type": "code",
   "execution_count": 12,
   "metadata": {
    "collapsed": true
   },
   "outputs": [],
   "source": [
    "import string\n",
    "import torch\n",
    "import torch.nn as nn\n",
    "import torch.nn.functional as F\n",
    "import torch.optim as optim\n",
    "\n",
    "from utils import char_tensor, n_characters, all_characters\n",
    "from torch.autograd import Variable"
   ]
  },
  {
   "cell_type": "markdown",
   "metadata": {},
   "source": [
    "# 0. Assignment\n",
    "\n",
    "## 0.1 Readings\n",
    "\n",
    "The reading for this week will be about [using PyTorch to train a Part-of-Speech tagger](http://pytorch.org/tutorials/beginner/nlp/sequence_models_tutorial.html#example-an-lstm-for-part-of-speech-tagging). Incidentally, the same reading should help you with the assignment, should you find you're having trouble.\n",
    "\n",
    "## 0.2 Character LSTM\n",
    "\n",
    "The assignment this week will be to train a character rnn to generate new Sherlock Holmes text. If you've downloaded the complete stories of Sherlock Holmes (as per the instructions in the README), then you're good to go!\n",
    "\n",
    "# 1. Character LSTM\n",
    "\n",
    "## 1.1 Training the Model\n",
    "\n",
    "To start with, I'll give you the same character LSTM architecture we looked at earlier:"
   ]
  },
  {
   "cell_type": "code",
   "execution_count": 2,
   "metadata": {
    "collapsed": true
   },
   "outputs": [],
   "source": [
    "class CharLSTM(nn.Module):\n",
    "    def __init__(self, char_dim, hidden_dim):\n",
    "        super(CharLSTM, self).__init__()\n",
    "        \n",
    "        self.char_embeddings = nn.Embedding(char_dim, hidden_dim)\n",
    "        self.lstm = nn.LSTM(hidden_dim, hidden_dim)\n",
    "        self.decoder = nn.Linear(hidden_dim, char_dim)\n",
    "        \n",
    "        self.hidden_dim = hidden_dim\n",
    "        self.hidden = self.init_hidden()\n",
    "    \n",
    "    def init_hidden(self):\n",
    "        return (Variable(torch.zeros(1, 1, self.hidden_dim)),\n",
    "                Variable(torch.zeros(1, 1, self.hidden_dim)))\n",
    "    \n",
    "    def forward(self, x):\n",
    "        x = self.char_embeddings(x)\n",
    "        x, self.hidden = self.lstm(x.view(len(x), 1, -1), self.hidden)\n",
    "        x = self.decoder(x.view(len(x), -1))\n",
    "        x = F.log_softmax(x, dim=1)\n",
    "        \n",
    "        return x"
   ]
  },
  {
   "cell_type": "markdown",
   "metadata": {},
   "source": [
    "You could theoretically use the same approach that was used in the assignment to train the network, but that would be quite slow. To get training time down to a reasonable level, you will need to:\n",
    "- split the data into reasonable sequence lengths (say, 50 or 100-length sequences) and use those as the training examples\n",
    "- batch (and shuffle) the data"
   ]
  },
  {
   "cell_type": "code",
   "execution_count": 16,
   "metadata": {},
   "outputs": [
    {
     "name": "stdout",
     "output_type": "stream",
     "text": [
      "THE COMPLETE SHERLOCK HOLMES\n",
      "Arthur Conan Doyle\n",
      "Table of contents\n",
      "A Study In Scarlet\n",
      "The Sign of the Four\n"
     ]
    }
   ],
   "source": [
    "with open('../data/cano.txt') as fp:\n",
    "    # You're welcome to play around with how the data is processed!\n",
    "    # I stuck with the newline join because it preserved the\n",
    "    # structure of the text. You could use the raw data if you want,\n",
    "    # or, join with a space, etc.\n",
    "    data = '\\n'.join(line.strip() for line in fp if line.strip())\n",
    "\n",
    "print(data[:105])"
   ]
  },
  {
   "cell_type": "code",
   "execution_count": 9,
   "metadata": {},
   "outputs": [
    {
     "name": "stdout",
     "output_type": "stream",
     "text": [
      "EPOCH: 1\n"
     ]
    }
   ],
   "source": [
    "def split_data(sequence):\n",
    "    # Your code goes here.\n",
    "    pass\n",
    "\n",
    "def batch_data():\n",
    "    # Your code goes here.\n",
    "    return []\n",
    "\n",
    "NUM_EPOCHS = 1\n",
    "\n",
    "for i in range(NUM_EPOCHS):\n",
    "    print(f'EPOCH: {i+1}')\n",
    "    for sequence in batch_data():\n",
    "        # Your code goes here\n",
    "        pass"
   ]
  },
  {
   "cell_type": "markdown",
   "metadata": {},
   "source": [
    "## 1.2 Sampling from the Model\n",
    "\n",
    "In the slides, we simply took the most likely character at every step. However, this is prone to lead us into loops of common words (`'the the the the'`), so we want to introduce the ability to explore a bit. There are numerous ways to do this; Karpathy introduces the notion of `temperature` when sampling which character to select next.\n",
    "\n",
    "To use the notion of `temperature`, we must actually treat this like a *sample*, and not just a greedy selection. Karpathy uses temperature by dividing out the log probability values by the temperature, exponentiating them (to bring them back to positive real numbers), and then renormalizing to take a proper multinomial sample.\n",
    "\n",
    "This looks like:\n",
    "\n",
    "$$\n",
    "mult(o, temp) = \\frac{exp(\\frac{o}{temp})}{\\sum_{o'} mult(o', temp)}\n",
    "$$\n",
    "\n",
    "Which gives us a new multinomial distribution from which we can sample. Lower temperatures perform less smoothing (and thus leave us more likely to end up in a loop), whereas higher temperatures can oversmooth (and reduce our output to nonsense)."
   ]
  },
  {
   "cell_type": "code",
   "execution_count": 4,
   "metadata": {
    "collapsed": true
   },
   "outputs": [],
   "source": [
    "def sample(start_char='S', length=100, temperature=1.0):\n",
    "    # Your code goes here.\n",
    "    pass\n",
    "\n",
    "sample()"
   ]
  },
  {
   "cell_type": "markdown",
   "metadata": {},
   "source": [
    "## Extra Credit\n",
    "\n",
    "Extra credit for this assignment will be to **use the same network architecture to train a full language model** over the Sherlock Holmes dataset. You can start with pretrained embeddings to speed up training, which you can use to initialize the `nn.Embedding` layer. (Recall, `self.embeddings.weight.data = E` will set the data inside the weight variable of the embeddings to the matrix E.\n",
    "\n",
    "The extra credit this week shouldn't require much more than data-wrangling and some amount of patience."
   ]
  },
  {
   "cell_type": "code",
   "execution_count": 5,
   "metadata": {
    "collapsed": true
   },
   "outputs": [],
   "source": [
    "# Your code goes here."
   ]
  }
 ],
 "metadata": {
  "kernelspec": {
   "display_name": "Environment (conda_pytorch-rg)",
   "language": "python",
   "name": "conda_pytorch-rg"
  },
  "language_info": {
   "codemirror_mode": {
    "name": "ipython",
    "version": 3
   },
   "file_extension": ".py",
   "mimetype": "text/x-python",
   "name": "python",
   "nbconvert_exporter": "python",
   "pygments_lexer": "ipython3",
   "version": "3.6.3"
  }
 },
 "nbformat": 4,
 "nbformat_minor": 2
}
